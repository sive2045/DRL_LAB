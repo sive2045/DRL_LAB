{
 "cells": [
  {
   "cell_type": "code",
   "execution_count": 1,
   "metadata": {},
   "outputs": [],
   "source": [
    "import os\n",
    "import torch\n",
    "from torch import nn\n",
    "from torch.utils.data import DataLoader\n",
    "from torchvision import datasets, transforms"
   ]
  },
  {
   "cell_type": "code",
   "execution_count": 2,
   "metadata": {},
   "outputs": [
    {
     "name": "stdout",
     "output_type": "stream",
     "text": [
      "Using cuda device\n"
     ]
    }
   ],
   "source": [
    "device = \"cuda\" if torch.cuda.is_available() else \"cpu\"\n",
    "print(f\"Using {device} device\")"
   ]
  },
  {
   "cell_type": "code",
   "execution_count": 4,
   "metadata": {},
   "outputs": [],
   "source": [
    "class NeuralNetwork(nn.Module):\n",
    "    def __init__(self):\n",
    "        super(NeuralNetwork, self).__init__()\n",
    "        self.flatten = nn.Flatten()\n",
    "        self.linear_relu_stack = nn.Sequential(\n",
    "            nn.Linear(28*28, 512),\n",
    "            nn.ReLU(),\n",
    "            nn.Linear(512,512),\n",
    "            nn.ReLU(),\n",
    "            nn.Linear(512,10),        \n",
    "        )\n",
    "    \n",
    "    def forward(self, x):\n",
    "        x = self.flatten(x)\n",
    "        logits = self.linear_relu_stack(x)\n",
    "        return logits"
   ]
  },
  {
   "cell_type": "code",
   "execution_count": 5,
   "metadata": {},
   "outputs": [
    {
     "name": "stdout",
     "output_type": "stream",
     "text": [
      "NeuralNetwork(\n",
      "  (flatten): Flatten(start_dim=1, end_dim=-1)\n",
      "  (linear_relu_stack): Sequential(\n",
      "    (0): Linear(in_features=784, out_features=512, bias=True)\n",
      "    (1): ReLU()\n",
      "    (2): Linear(in_features=512, out_features=512, bias=True)\n",
      "    (3): ReLU()\n",
      "    (4): Linear(in_features=512, out_features=10, bias=True)\n",
      "  )\n",
      ")\n"
     ]
    }
   ],
   "source": [
    "model = NeuralNetwork().to(device)\n",
    "print(model)"
   ]
  },
  {
   "cell_type": "code",
   "execution_count": 6,
   "metadata": {},
   "outputs": [
    {
     "name": "stdout",
     "output_type": "stream",
     "text": [
      "Predicted calss:tensor([7], device='cuda:0')\n"
     ]
    }
   ],
   "source": [
    "X = torch.rand(1,28,28, device=device)\n",
    "logits = model(X)\n",
    "pred_probab = nn.Softmax(dim=1)(logits)\n",
    "y_pred = pred_probab.argmax(1)\n",
    "print(f\"Predicted calss:{y_pred}\")"
   ]
  },
  {
   "cell_type": "code",
   "execution_count": 7,
   "metadata": {},
   "outputs": [
    {
     "name": "stdout",
     "output_type": "stream",
     "text": [
      "torch.Size([3, 28, 28])\n"
     ]
    }
   ],
   "source": [
    "input_image = torch.rand(3,28,28)\n",
    "print(input_image.size())"
   ]
  },
  {
   "cell_type": "code",
   "execution_count": 9,
   "metadata": {},
   "outputs": [
    {
     "name": "stdout",
     "output_type": "stream",
     "text": [
      "torch.Size([3, 784])\n"
     ]
    }
   ],
   "source": [
    "flatten = nn.Flatten()\n",
    "flat_image = flatten(input_image)\n",
    "print(flat_image.size())"
   ]
  },
  {
   "cell_type": "code",
   "execution_count": 10,
   "metadata": {},
   "outputs": [
    {
     "name": "stdout",
     "output_type": "stream",
     "text": [
      "torch.Size([3, 20])\n"
     ]
    }
   ],
   "source": [
    "layer1 = nn.Linear(in_features=28*28, out_features=20)\n",
    "hidden1 = layer1(flat_image)\n",
    "print(hidden1.size())"
   ]
  },
  {
   "cell_type": "code",
   "execution_count": 11,
   "metadata": {},
   "outputs": [
    {
     "name": "stdout",
     "output_type": "stream",
     "text": [
      "Before ReLU :tensor([[ 0.0508, -0.2166, -0.0865,  0.5718,  0.1945, -0.1507,  0.1855,  0.0699,\n",
      "         -0.1473, -0.2332, -0.1202,  0.2495, -0.2153, -0.2331,  0.0149, -0.2535,\n",
      "         -0.2937,  0.0323,  0.1249,  0.3137],\n",
      "        [ 0.0624,  0.0100, -0.3481,  0.5000, -0.1507, -0.1950,  0.1448,  0.4860,\n",
      "          0.0875, -0.1908, -0.0990,  0.6583, -0.4166, -0.3411,  0.4033, -0.2207,\n",
      "         -0.2364,  0.1945,  0.1683,  0.1032],\n",
      "        [-0.2305, -0.1160, -0.2107,  0.5379,  0.2137, -0.6426,  0.3742, -0.0531,\n",
      "         -0.4829, -0.3686, -0.0929,  0.4232, -0.0231, -0.4409,  0.1198, -0.2425,\n",
      "         -0.1825, -0.0094,  0.1079,  0.4339]], grad_fn=<AddmmBackward0>)\n",
      "After ReLU: tensor([[0.0508, 0.0000, 0.0000, 0.5718, 0.1945, 0.0000, 0.1855, 0.0699, 0.0000,\n",
      "         0.0000, 0.0000, 0.2495, 0.0000, 0.0000, 0.0149, 0.0000, 0.0000, 0.0323,\n",
      "         0.1249, 0.3137],\n",
      "        [0.0624, 0.0100, 0.0000, 0.5000, 0.0000, 0.0000, 0.1448, 0.4860, 0.0875,\n",
      "         0.0000, 0.0000, 0.6583, 0.0000, 0.0000, 0.4033, 0.0000, 0.0000, 0.1945,\n",
      "         0.1683, 0.1032],\n",
      "        [0.0000, 0.0000, 0.0000, 0.5379, 0.2137, 0.0000, 0.3742, 0.0000, 0.0000,\n",
      "         0.0000, 0.0000, 0.4232, 0.0000, 0.0000, 0.1198, 0.0000, 0.0000, 0.0000,\n",
      "         0.1079, 0.4339]], grad_fn=<ReluBackward0>)\n"
     ]
    }
   ],
   "source": [
    "print(f\"Before ReLU :{hidden1}\")\n",
    "hidden1 = nn.ReLU()(hidden1)\n",
    "print(f\"After ReLU: {hidden1}\")"
   ]
  },
  {
   "cell_type": "code",
   "execution_count": 15,
   "metadata": {},
   "outputs": [
    {
     "name": "stdout",
     "output_type": "stream",
     "text": [
      "init\n"
     ]
    }
   ],
   "source": [
    "class Test():\n",
    "    def __init__(self):\n",
    "        self.h = 10\n",
    "        print(\"init\")\n",
    "    \n",
    "    def mul(self, x):\n",
    "        return x*self.h\n",
    "\n",
    "    __call__ = mul\n",
    "\n",
    "t = Test()(5)"
   ]
  },
  {
   "cell_type": "code",
   "execution_count": 17,
   "metadata": {},
   "outputs": [],
   "source": [
    "seq_modules = nn.Sequential(\n",
    "    flatten,\n",
    "    layer1,\n",
    "    nn.ReLU(),\n",
    "    nn.Linear(20,10)\n",
    ")\n",
    "input_image = torch.rand(3,28,28)\n",
    "logits = seq_modules(input_image)"
   ]
  },
  {
   "cell_type": "code",
   "execution_count": 18,
   "metadata": {},
   "outputs": [],
   "source": [
    "softmax = nn.Softmax(dim=1)\n",
    "pred_probab = softmax(logits)"
   ]
  },
  {
   "cell_type": "code",
   "execution_count": 19,
   "metadata": {},
   "outputs": [
    {
     "name": "stdout",
     "output_type": "stream",
     "text": [
      "tensor([[0.0748, 0.1103, 0.1188, 0.0865, 0.1115, 0.1257, 0.0644, 0.1022, 0.1140,\n",
      "         0.0919],\n",
      "        [0.0775, 0.1070, 0.1211, 0.0814, 0.1198, 0.1333, 0.0647, 0.1038, 0.1097,\n",
      "         0.0818],\n",
      "        [0.0759, 0.1076, 0.1173, 0.0874, 0.1121, 0.1277, 0.0677, 0.1038, 0.1128,\n",
      "         0.0878]], grad_fn=<SoftmaxBackward0>)\n"
     ]
    }
   ],
   "source": [
    "print(pred_probab)"
   ]
  },
  {
   "cell_type": "code",
   "execution_count": 20,
   "metadata": {},
   "outputs": [
    {
     "name": "stdout",
     "output_type": "stream",
     "text": [
      "Model :NeuralNetwork(\n",
      "  (flatten): Flatten(start_dim=1, end_dim=-1)\n",
      "  (linear_relu_stack): Sequential(\n",
      "    (0): Linear(in_features=784, out_features=512, bias=True)\n",
      "    (1): ReLU()\n",
      "    (2): Linear(in_features=512, out_features=512, bias=True)\n",
      "    (3): ReLU()\n",
      "    (4): Linear(in_features=512, out_features=10, bias=True)\n",
      "  )\n",
      ")\n",
      "Layer:linear_relu_stack.0.weight | Size:torch.Size([512, 784]) | Values: tensor([[ 0.0180,  0.0009,  0.0203,  ..., -0.0076, -0.0146,  0.0069],\n",
      "        [-0.0149, -0.0171,  0.0011,  ...,  0.0010,  0.0091,  0.0171]],\n",
      "       device='cuda:0', grad_fn=<SliceBackward0>)\n",
      "Layer:linear_relu_stack.0.bias | Size:torch.Size([512]) | Values: tensor([ 0.0002, -0.0059], device='cuda:0', grad_fn=<SliceBackward0>)\n",
      "Layer:linear_relu_stack.2.weight | Size:torch.Size([512, 512]) | Values: tensor([[ 0.0225,  0.0150, -0.0038,  ..., -0.0174,  0.0228, -0.0315],\n",
      "        [-0.0264,  0.0200,  0.0270,  ...,  0.0345, -0.0124, -0.0094]],\n",
      "       device='cuda:0', grad_fn=<SliceBackward0>)\n",
      "Layer:linear_relu_stack.2.bias | Size:torch.Size([512]) | Values: tensor([ 0.0122, -0.0295], device='cuda:0', grad_fn=<SliceBackward0>)\n",
      "Layer:linear_relu_stack.4.weight | Size:torch.Size([10, 512]) | Values: tensor([[-0.0307, -0.0070,  0.0284,  ..., -0.0158, -0.0121,  0.0301],\n",
      "        [-0.0061, -0.0432,  0.0432,  ...,  0.0415,  0.0188, -0.0077]],\n",
      "       device='cuda:0', grad_fn=<SliceBackward0>)\n",
      "Layer:linear_relu_stack.4.bias | Size:torch.Size([10]) | Values: tensor([0.0343, 0.0242], device='cuda:0', grad_fn=<SliceBackward0>)\n"
     ]
    }
   ],
   "source": [
    "print(f\"Model :{model}\")\n",
    "\n",
    "for name, param in model.named_parameters():\n",
    "    print(f\"Layer:{name} | Size:{param.size()} | Values: {param[:2]}\")"
   ]
  },
  {
   "cell_type": "code",
   "execution_count": null,
   "metadata": {},
   "outputs": [],
   "source": []
  }
 ],
 "metadata": {
  "kernelspec": {
   "display_name": "Python 3.8.13 ('pytorch')",
   "language": "python",
   "name": "python3"
  },
  "language_info": {
   "codemirror_mode": {
    "name": "ipython",
    "version": 3
   },
   "file_extension": ".py",
   "mimetype": "text/x-python",
   "name": "python",
   "nbconvert_exporter": "python",
   "pygments_lexer": "ipython3",
   "version": "3.8.13"
  },
  "orig_nbformat": 4,
  "vscode": {
   "interpreter": {
    "hash": "240bc028caeb8b02ff80d8aedfc61caf7a0e4db2770780d40c5b717508bae340"
   }
  }
 },
 "nbformat": 4,
 "nbformat_minor": 2
}
